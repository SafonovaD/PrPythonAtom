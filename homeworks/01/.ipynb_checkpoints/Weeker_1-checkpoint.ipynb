{
 "cells": [
  {
   "cell_type": "markdown",
   "metadata": {},
   "source": [
    "# Недельник 1\n",
    "\n",
    "Как было сказано на лекции, на текущей неделе вы получаете ежедневные задания. Система оценки следующая: в первый день(четверг) вы делаете первый pull-request в ветку homework_01. Потом каждый день делаете коммит, он будет автоматически привязывать к pull-request. Если задачка не сделана в течении 2-х дней она сгорает. (Можно четверг сделать в четверг и пятницу)"
   ]
  },
  {
   "cell_type": "markdown",
   "metadata": {},
   "source": [
    "# Четверг"
   ]
  },
  {
   "cell_type": "code",
   "execution_count": 1,
   "metadata": {
    "collapsed": true
   },
   "outputs": [],
   "source": [
    "#TODO Сделайте калькулятор произвольных выражений, операции следующие: +, -, /, ^, *. скобок нет\n",
    "def calculate(input_str):\n",
    "    k=-1\n",
    "    m=0\n",
    "    b = []\n",
    "    for i in range(len(input_str)):\n",
    "        if input_str[i]=='^':\n",
    "            b.append(int(input_str[k+1:i]))\n",
    "            b.append(input_str[i])\n",
    "            k=i\n",
    "        if input_str[i]==' ':\n",
    "            if input_str[i-1]!='+' and input_str[i-1]!='-' and input_str[i-1]!='/' and input_str[i-1]!='^' and input_str[i-1]!='*':\n",
    "                b.append(int(input_str[k+1:i]))\n",
    "                k=i\n",
    "            else:\n",
    "                b.append(input_str[k+1:i])\n",
    "                k=i \n",
    "        if i==len(input_str)-1:   \n",
    "             b.append(int(input_str[k+1:i+1]))         \n",
    "    m=len(b)   \n",
    "    i=-1\n",
    "    for j in range(m):     \n",
    "        i=i+1\n",
    "        if i<=len(b) and b[i]=='/':\n",
    "            b[i-1]=b[i-1]/b[i+1]\n",
    "            del b[i+1]\n",
    "            del b[i]\n",
    "            i=i-2\n",
    "    m=len(b)\n",
    "    i=-1\n",
    "    for j in range(m): \n",
    "        i=i+1\n",
    "        if i<=len(b) and b[i]=='*':\n",
    "            b[i-1]=b[i-1]*b[i+1]\n",
    "            del b[i+1]\n",
    "            del b[i]\n",
    "            i=i-2\n",
    "    m=len(b)\n",
    "    i=-1\n",
    "    for j in range(m):  \n",
    "        i=i+1\n",
    "        if i<=len(b) and b[i]=='-':\n",
    "            b[i-1]=b[i-1]-b[i+1]\n",
    "            del b[i+1]\n",
    "            del b[i] \n",
    "            i=i-2       \n",
    "    m=len(b)\n",
    "    i=-1\n",
    "    for j in range(m):  \n",
    "        i=i+1\n",
    "        if i<=len(b) and b[i]=='+':\n",
    "            b[i-1]=b[i-1]+b[i+1]\n",
    "            del b[i+1]\n",
    "            del b[i] \n",
    "            i=i-2  \n",
    "    m=len(b)   \n",
    "    i=-1\n",
    "    for j in range(m):     \n",
    "        i=i+1\n",
    "        if i<=len(b) and b[i]=='^':\n",
    "            b[i-1]=b[i-1]^b[i+1]\n",
    "            del b[i+1]\n",
    "            del b[i]\n",
    "            i=i-2            \n",
    "    return b[0]\n"
   ]
  },
  {
   "cell_type": "code",
   "execution_count": 6,
   "metadata": {
    "collapsed": true
   },
   "outputs": [],
   "source": [
    "assert calculate(\"2 + 2 * 2\") == 6\n",
    "assert calculate(\"345 / 5 * 21\") == 1449.\n",
    "assert calculate(\"3^3 - 10 + 41 * 3\") == 119\n",
    "assert calculate(\"42 / 7 * 32\") == 192.0\n",
    "\n",
    "#TODO Дополнить еще 2-мя своими тестами\n",
    "assert calculate(\"42 + 7 - 32\") == 17\n",
    "assert calculate(\"42 - 7^2 + 2\") == 39"
   ]
  },
  {
   "cell_type": "markdown",
   "metadata": {},
   "source": [
    "# Пятница"
   ]
  },
  {
   "cell_type": "code",
   "execution_count": 1,
   "metadata": {
    "collapsed": true
   },
   "outputs": [],
   "source": [
    "#TODO метод разворачивающий строку HE2LO -> HELLO (число означает сколько раз встречается буква)\n",
    "def transform_string(inp_string):\n",
    "    k=0\n",
    "    i=-1\n",
    "    b=[]\n",
    "    for m in range(len(inp_string)):\n",
    "        i=i+1\n",
    "        j=i\n",
    "        if i<len(inp_string):\n",
    "            b.append(inp_string[i]) \n",
    "            while inp_string[j].isdigit():\n",
    "                j=j+1\n",
    "        if j>i:\n",
    "            del b[len(b)-1]\n",
    "            b.append(int(inp_string[i:j]))   \n",
    "            i=j-1     \n",
    "    c=''\n",
    "    for i in range(len(b)):\n",
    "        if format(type(b[i]))==format(type(1)):\n",
    "            for j in range(int(b[i])-1):\n",
    "                c=c+b[i+1]\n",
    "        else:\n",
    "            c=c+b[i]\n",
    "    return c"
   ]
  },
  {
   "cell_type": "code",
   "execution_count": 2,
   "metadata": {
    "collapsed": true
   },
   "outputs": [],
   "source": [
    "assert transform_string(\"HE2LO\") == \"HELLO\"\n",
    "assert transform_string(\"HI\") == \"HI\"\n",
    "assert transform_string(\"пр12ивет\") == \"приииииииииииивет\"\n",
    "assert transform_string(\"2л3у78н65тик\") == 'ллуууннннннннннннннннннннннннннннннннннннннннннннннннннннннннннннннннннннннннннннннтттттттттттттттттттттттттттттттттттттттттттттттттттттттттттттттттик'\n",
    "\n",
    "#TODO Дописать 2 своих теста\n",
    "assert transform_string(\"1H1E2L1O\") == \"HELLO\"\n",
    "assert transform_string(\"HELL3O\") == \"HELLOOO\""
   ]
  },
  {
   "cell_type": "markdown",
   "metadata": {},
   "source": [
    "# Суббота"
   ]
  },
  {
   "cell_type": "code",
   "execution_count": 3,
   "metadata": {
    "collapsed": true
   },
   "outputs": [],
   "source": [
    "#TODO метод выводящий статистику по строке, кол-во гласных, согласных, цифр, строчных букв, прописных букв\n",
    "def string_stat(inp_string):\n",
    "    a=[0, 0, 0, 0, 0]\n",
    "    for i in range(len(inp_string)):\n",
    "        if inp_string[i].isdigit():\n",
    "            a[2]=a[2]+1\n",
    "        if inp_string[i].islower():\n",
    "            a[3]=a[3]+1\n",
    "            if inp_string[i]=='а' or inp_string[i]=='ы' or inp_string[i]=='о'or inp_string[i]=='у' or inp_string[i]=='е' or inp_string[i]=='и'or inp_string[i]=='я' or inp_string[i]=='ю' or inp_string[i]=='э':\n",
    "                a[0]=a[0]+1\n",
    "            else:\n",
    "                a[1]=a[1]+1\n",
    "        if inp_string[i].isupper():\n",
    "            a[4]=a[4]+1    \n",
    "            if inp_string[i]=='А' or inp_string[i]=='Ы' or inp_string[i]=='О'or inp_string[i]=='У' or inp_string[i]=='Е' or inp_string[i]=='И' or inp_string[i]=='Я' or inp_string[i]=='Ю' or inp_string[i]=='Э':\n",
    "                a[0]=a[0]+1\n",
    "            else:\n",
    "                a[1]=a[1]+1\n",
    "    t=(a[0], a[1], a[2], a[3], a[4]) \n",
    "    return t"
   ]
  },
  {
   "cell_type": "code",
   "execution_count": 4,
   "metadata": {
    "collapsed": true
   },
   "outputs": [],
   "source": [
    "assert string_stat(\"Тевирп\") == (2, 4, 0, 5, 1)\n",
    "assert string_stat(\"КоРоВа4\") == (3, 3, 1, 3, 3)\n",
    "\n",
    "#TODO 2 своих теста\n",
    "assert string_stat(\"1Т1е1в1и1р11п\") == (2, 4, 7, 5, 1)\n",
    "assert string_stat(\"1234А\") == (1, 0, 4, 0, 1)"
   ]
  },
  {
   "cell_type": "markdown",
   "metadata": {},
   "source": [
    "# Воскресенье - ВЫХОДНОЙ"
   ]
  },
  {
   "cell_type": "markdown",
   "metadata": {},
   "source": [
    "# Понедельник"
   ]
  },
  {
   "cell_type": "code",
   "execution_count": null,
   "metadata": {
    "collapsed": true
   },
   "outputs": [],
   "source": [
    "#TODO инвертируйте словарь из k - [v_1, v_2] в v_1 [k_1]\n",
    "def dict_inverter(input_dict):\n",
    "    return {}"
   ]
  },
  {
   "cell_type": "code",
   "execution_count": null,
   "metadata": {
    "collapsed": true
   },
   "outputs": [],
   "source": [
    "assert dict_inverter({\"mango\" : [\"eatable\"], \"pillow\": [\"sleepable\"]}) == {\"eatable\": \"mango\", \"sleepable\": \"pillow\"}\n",
    "assert dict_inverter({\"mango\" : [\"eatable\", \"readable\"]}) == {\"readable\":\"mango\", \"eatable\":\"mango\"}\n",
    "assert dict_inverter({\"mango\" : [\"eatable\"], \"banana\": [\"eatable\"]}) == {\"eatable\": [\"mango\", \"banana\"]}\n",
    "\n",
    "#TODO Один свой тест"
   ]
  },
  {
   "cell_type": "markdown",
   "metadata": {},
   "source": [
    "# Вторник"
   ]
  },
  {
   "cell_type": "code",
   "execution_count": null,
   "metadata": {
    "collapsed": true
   },
   "outputs": [],
   "source": [
    "#TODO вывести уникальные элементы массива\n",
    "def uniq_array(input_arr):\n",
    "    return []"
   ]
  },
  {
   "cell_type": "code",
   "execution_count": null,
   "metadata": {
    "collapsed": true
   },
   "outputs": [],
   "source": [
    "assert uniq_array([0]) == [0]\n",
    "assert uniq_array([0, 1, 2, 3]) == [0, 1, 2, 3]\n",
    "assert uniq_array([\"f\", \"t\", \"f\"]) == ['t', 'f']\n",
    "assert uniq_array(['rt', 'rt']) == ['rt']"
   ]
  }
 ],
 "metadata": {
  "kernelspec": {
   "display_name": "Python 3",
   "language": "python",
   "name": "python3"
  },
  "language_info": {
   "codemirror_mode": {
    "name": "ipython",
    "version": 3
   },
   "file_extension": ".py",
   "mimetype": "text/x-python",
   "name": "python",
   "nbconvert_exporter": "python",
   "pygments_lexer": "ipython3",
   "version": "3.6.1"
  }
 },
 "nbformat": 4,
 "nbformat_minor": 2
}
