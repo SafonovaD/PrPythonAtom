{
 "cells": [
  {
   "cell_type": "code",
   "execution_count": null,
   "metadata": {
    "collapsed": true
   },
   "outputs": [],
   "source": []
  },
  {
   "cell_type": "code",
   "execution_count": 2,
   "metadata": {
    "ExecuteTime": {
     "end_time": "2018-10-08T08:20:14.399748Z",
     "start_time": "2018-10-08T08:20:14.392707Z"
    },
    "collapsed": true
   },
   "outputs": [],
   "source": [
    "import pandas as pd\n",
    "import numpy as np\n",
    "\n",
    "import matplotlib.pyplot as plt ### Библиотека для рисования графичков, гистограмм, и проч.\n",
    "\n",
    "### нужно писать магию чтобы графики рисовались внутри jupyter notebook \n",
    "%matplotlib inline              "
   ]
  },
  {
   "cell_type": "markdown",
   "metadata": {},
   "source": [
    "##### Игрушечный пример"
   ]
  },
  {
   "cell_type": "code",
   "execution_count": 6,
   "metadata": {
    "ExecuteTime": {
     "end_time": "2018-10-08T09:32:16.466410Z",
     "start_time": "2018-10-08T09:32:16.436554Z"
    },
    "collapsed": true
   },
   "outputs": [],
   "source": [
    "df = pd.DataFrame(\n",
    "    data=np.array([\n",
    "        ['f', 55, 171],\n",
    "        ['f', 54, 180],\n",
    "        ['f', 60, 173],\n",
    "        ['f', 59, 180],\n",
    "        ['m', 60, 177],\n",
    "        ['m', 65, 177],\n",
    "        ['m', 75, 165],\n",
    "        ['m', 83, 182],\n",
    "        ['m', 72, 165],\n",
    "        ['m', 85, 183],\n",
    "        ['f', 49, 172],\n",
    "        ['f', 55, 155],\n",
    "       ]).T, \n",
    "    index=['sex', 'weight', 'height']).T"
   ]
  },
  {
   "cell_type": "code",
   "execution_count": 7,
   "metadata": {
    "ExecuteTime": {
     "end_time": "2018-10-08T09:32:16.605209Z",
     "start_time": "2018-10-08T09:32:16.593279Z"
    }
   },
   "outputs": [
    {
     "data": {
      "text/html": [
       "<div>\n",
       "<style>\n",
       "    .dataframe thead tr:only-child th {\n",
       "        text-align: right;\n",
       "    }\n",
       "\n",
       "    .dataframe thead th {\n",
       "        text-align: left;\n",
       "    }\n",
       "\n",
       "    .dataframe tbody tr th {\n",
       "        vertical-align: top;\n",
       "    }\n",
       "</style>\n",
       "<table border=\"1\" class=\"dataframe\">\n",
       "  <thead>\n",
       "    <tr style=\"text-align: right;\">\n",
       "      <th></th>\n",
       "      <th>sex</th>\n",
       "      <th>weight</th>\n",
       "      <th>height</th>\n",
       "    </tr>\n",
       "  </thead>\n",
       "  <tbody>\n",
       "    <tr>\n",
       "      <th>0</th>\n",
       "      <td>f</td>\n",
       "      <td>55</td>\n",
       "      <td>171</td>\n",
       "    </tr>\n",
       "    <tr>\n",
       "      <th>1</th>\n",
       "      <td>f</td>\n",
       "      <td>54</td>\n",
       "      <td>180</td>\n",
       "    </tr>\n",
       "    <tr>\n",
       "      <th>2</th>\n",
       "      <td>f</td>\n",
       "      <td>60</td>\n",
       "      <td>173</td>\n",
       "    </tr>\n",
       "    <tr>\n",
       "      <th>3</th>\n",
       "      <td>f</td>\n",
       "      <td>59</td>\n",
       "      <td>180</td>\n",
       "    </tr>\n",
       "    <tr>\n",
       "      <th>4</th>\n",
       "      <td>m</td>\n",
       "      <td>60</td>\n",
       "      <td>177</td>\n",
       "    </tr>\n",
       "    <tr>\n",
       "      <th>5</th>\n",
       "      <td>m</td>\n",
       "      <td>65</td>\n",
       "      <td>177</td>\n",
       "    </tr>\n",
       "    <tr>\n",
       "      <th>6</th>\n",
       "      <td>m</td>\n",
       "      <td>75</td>\n",
       "      <td>165</td>\n",
       "    </tr>\n",
       "    <tr>\n",
       "      <th>7</th>\n",
       "      <td>m</td>\n",
       "      <td>83</td>\n",
       "      <td>182</td>\n",
       "    </tr>\n",
       "    <tr>\n",
       "      <th>8</th>\n",
       "      <td>m</td>\n",
       "      <td>72</td>\n",
       "      <td>165</td>\n",
       "    </tr>\n",
       "    <tr>\n",
       "      <th>9</th>\n",
       "      <td>m</td>\n",
       "      <td>85</td>\n",
       "      <td>183</td>\n",
       "    </tr>\n",
       "    <tr>\n",
       "      <th>10</th>\n",
       "      <td>f</td>\n",
       "      <td>49</td>\n",
       "      <td>172</td>\n",
       "    </tr>\n",
       "    <tr>\n",
       "      <th>11</th>\n",
       "      <td>f</td>\n",
       "      <td>55</td>\n",
       "      <td>155</td>\n",
       "    </tr>\n",
       "  </tbody>\n",
       "</table>\n",
       "</div>"
      ],
      "text/plain": [
       "   sex weight height\n",
       "0    f     55    171\n",
       "1    f     54    180\n",
       "2    f     60    173\n",
       "3    f     59    180\n",
       "4    m     60    177\n",
       "5    m     65    177\n",
       "6    m     75    165\n",
       "7    m     83    182\n",
       "8    m     72    165\n",
       "9    m     85    183\n",
       "10   f     49    172\n",
       "11   f     55    155"
      ]
     },
     "execution_count": 7,
     "metadata": {},
     "output_type": "execute_result"
    }
   ],
   "source": [
    "df"
   ]
  },
  {
   "cell_type": "code",
   "execution_count": 8,
   "metadata": {
    "ExecuteTime": {
     "end_time": "2018-10-08T09:32:16.749683Z",
     "start_time": "2018-10-08T09:32:16.744015Z"
    },
    "collapsed": true
   },
   "outputs": [],
   "source": [
    "df.weight = df.weight.astype(np.int32)\n",
    "df.height = df.height.astype(np.int32)"
   ]
  },
  {
   "cell_type": "code",
   "execution_count": 9,
   "metadata": {
    "ExecuteTime": {
     "end_time": "2018-10-08T16:58:41.962802Z",
     "start_time": "2018-10-08T16:58:41.722377Z"
    }
   },
   "outputs": [
    {
     "data": {
      "image/png": "[encoded data removed]",
      "text/plain": [
       "<matplotlib.figure.Figure at 0x589cda57b8>"
      ]
     },
     "metadata": {},
     "output_type": "display_data"
    }
   ],
   "source": [
    "plt.scatter(df.weight[df.sex=='m'], df.height[df.sex=='m'], color = 'blue', label='male');\n",
    "plt.scatter(df.weight[df.sex=='f'], df.height[df.sex=='f'], color = 'red', label='female');\n",
    "plt.legend(loc=[1.1, 0.5]);\n",
    "plt.ylabel('рост');\n",
    "plt.xlabel('вес');"
   ]
  },
  {
   "cell_type": "code",
   "execution_count": 10,
   "metadata": {
    "ExecuteTime": {
     "end_time": "2018-10-08T16:58:47.024276Z",
     "start_time": "2018-10-08T16:58:46.787009Z"
    }
   },
   "outputs": [
    {
     "data": {
      "image/png": "[encoded data removed]",
      "text/plain": [
       "<matplotlib.figure.Figure at 0x589cdc9f60>"
      ]
     },
     "metadata": {},
     "output_type": "display_data"
    }
   ],
   "source": [
    "plt.scatter(df.weight[df.sex=='m'], df.height[df.sex=='m'], color = 'blue', label='male');\n",
    "plt.scatter(df.weight[df.sex=='f'], df.height[df.sex=='f'], color = 'red', label='female');\n",
    "\n",
    "plt.scatter(65, 180, color = 'green', marker='x', label='???');\n",
    "plt.legend(loc=[1.1, 0.5]);\n",
    "plt.ylabel('рост');\n",
    "plt.xlabel('вес');"
   ]
  },
  {
   "cell_type": "markdown",
   "metadata": {},
   "source": [
    "________"
   ]
  },
  {
   "cell_type": "markdown",
   "metadata": {},
   "source": [
    "## Попредсказываем?"
   ]
  },
  {
   "cell_type": "markdown",
   "metadata": {},
   "source": [
    "##### пандас умеет в интернет"
   ]
  },
  {
   "cell_type": "code",
   "execution_count": 11,
   "metadata": {
    "ExecuteTime": {
     "end_time": "2018-10-09T13:47:21.157587Z",
     "start_time": "2018-10-09T13:47:20.908140Z"
    }
   },
   "outputs": [],
   "source": [
    "df = pd.read_csv('https://raw.githubusercontent.com/rmcelreath/rethinking/master/data/Howell1.csv', sep=';')\n",
    "df = df[np.logical_and(df.age > 18, df.age < 50)] "
   ]
  },
  {
   "cell_type": "code",
   "execution_count": 12,
   "metadata": {
    "ExecuteTime": {
     "end_time": "2018-10-09T13:47:21.162107Z",
     "start_time": "2018-10-09T13:47:21.158880Z"
    }
   },
   "outputs": [
    {
     "data": {
      "text/plain": [
       "(249, 4)"
      ]
     },
     "execution_count": 12,
     "metadata": {},
     "output_type": "execute_result"
    }
   ],
   "source": [
    "df.shape"
   ]
  },
  {
   "cell_type": "code",
   "execution_count": 13,
   "metadata": {
    "ExecuteTime": {
     "end_time": "2018-10-09T14:54:03.880255Z",
     "start_time": "2018-10-09T14:54:03.869054Z"
    },
    "collapsed": true
   },
   "outputs": [],
   "source": [
    "df_train = df.loc[:100]\n",
    "df_test = df.loc[150:180]"
   ]
  },
  {
   "cell_type": "code",
   "execution_count": 14,
   "metadata": {
    "ExecuteTime": {
     "end_time": "2018-10-09T14:54:04.431081Z",
     "start_time": "2018-10-09T14:54:04.412081Z"
    }
   },
   "outputs": [
    {
     "data": {
      "text/html": [
       "<div>\n",
       "<style>\n",
       "    .dataframe thead tr:only-child th {\n",
       "        text-align: right;\n",
       "    }\n",
       "\n",
       "    .dataframe thead th {\n",
       "        text-align: left;\n",
       "    }\n",
       "\n",
       "    .dataframe tbody tr th {\n",
       "        vertical-align: top;\n",
       "    }\n",
       "</style>\n",
       "<table border=\"1\" class=\"dataframe\">\n",
       "  <thead>\n",
       "    <tr style=\"text-align: right;\">\n",
       "      <th></th>\n",
       "      <th>height</th>\n",
       "      <th>weight</th>\n",
       "      <th>age</th>\n",
       "      <th>male</th>\n",
       "    </tr>\n",
       "  </thead>\n",
       "  <tbody>\n",
       "    <tr>\n",
       "      <th>3</th>\n",
       "      <td>156.845</td>\n",
       "      <td>53.041915</td>\n",
       "      <td>41.0</td>\n",
       "      <td>1</td>\n",
       "    </tr>\n",
       "    <tr>\n",
       "      <th>5</th>\n",
       "      <td>163.830</td>\n",
       "      <td>62.992589</td>\n",
       "      <td>35.0</td>\n",
       "      <td>1</td>\n",
       "    </tr>\n",
       "    <tr>\n",
       "      <th>6</th>\n",
       "      <td>149.225</td>\n",
       "      <td>38.243476</td>\n",
       "      <td>32.0</td>\n",
       "      <td>0</td>\n",
       "    </tr>\n",
       "    <tr>\n",
       "      <th>7</th>\n",
       "      <td>168.910</td>\n",
       "      <td>55.479971</td>\n",
       "      <td>27.0</td>\n",
       "      <td>1</td>\n",
       "    </tr>\n",
       "    <tr>\n",
       "      <th>8</th>\n",
       "      <td>147.955</td>\n",
       "      <td>34.869885</td>\n",
       "      <td>19.0</td>\n",
       "      <td>0</td>\n",
       "    </tr>\n",
       "  </tbody>\n",
       "</table>\n",
       "</div>"
      ],
      "text/plain": [
       "    height     weight   age  male\n",
       "3  156.845  53.041915  41.0     1\n",
       "5  163.830  62.992589  35.0     1\n",
       "6  149.225  38.243476  32.0     0\n",
       "7  168.910  55.479971  27.0     1\n",
       "8  147.955  34.869885  19.0     0"
      ]
     },
     "execution_count": 14,
     "metadata": {},
     "output_type": "execute_result"
    }
   ],
   "source": [
    "df_train.head()"
   ]
  },
  {
   "cell_type": "code",
   "execution_count": 15,
   "metadata": {
    "ExecuteTime": {
     "end_time": "2018-10-09T14:54:04.997431Z",
     "start_time": "2018-10-09T14:54:04.980610Z"
    },
    "collapsed": true
   },
   "outputs": [],
   "source": [
    "def plot(df):\n",
    "    plt.scatter(df.weight[df.male==1], df.height[df.male==1], color = 'blue', label='male');\n",
    "    plt.scatter(df.weight[df.male==0], df.height[df.male==0], color = 'red', label='female');\n",
    "    plt.legend(loc=[1.1, 0.5]);\n",
    "    plt.ylabel('рост');\n",
    "    plt.xlabel('вес');"
   ]
  },
  {
   "cell_type": "code",
   "execution_count": 16,
   "metadata": {
    "ExecuteTime": {
     "end_time": "2018-10-09T14:54:05.709975Z",
     "start_time": "2018-10-09T14:54:05.437294Z"
    }
   },
   "outputs": [
    {
     "data": {
      "image/png": "[encoded data removed]",
      "text/plain": [
       "<matplotlib.figure.Figure at 0x589d1ca7f0>"
      ]
     },
     "metadata": {},
     "output_type": "display_data"
    }
   ],
   "source": [
    "plot(df_train)"
   ]
  },
  {
   "cell_type": "code",
   "execution_count": 17,
   "metadata": {
    "ExecuteTime": {
     "end_time": "2018-10-09T14:54:07.370512Z",
     "start_time": "2018-10-09T14:54:07.133605Z"
    },
    "scrolled": true
   },
   "outputs": [
    {
     "data": {
      "image/png": "[encoded data removed]",
      "text/plain": [
       "<matplotlib.figure.Figure at 0x589d0990f0>"
      ]
     },
     "metadata": {},
     "output_type": "display_data"
    }
   ],
   "source": [
    "plot(df_test)"
   ]
  },
  {
   "cell_type": "code",
   "execution_count": 18,
   "metadata": {
    "ExecuteTime": {
     "end_time": "2018-10-09T15:19:24.575029Z",
     "start_time": "2018-10-09T15:19:24.334667Z"
    }
   },
   "outputs": [
    {
     "data": {
      "image/png": "[encoded data removed]",
      "text/plain": [
       "<matplotlib.figure.Figure at 0x589d161978>"
      ]
     },
     "metadata": {},
     "output_type": "display_data"
    }
   ],
   "source": [
    "plt.scatter(df_test.weight[df_test.male==1], df_test.height[df_test.male==1], color = 'blue', label='male');\n",
    "plt.scatter(df_test.weight[df_test.male==0], df_test.height[df_test.male==0], color = 'red', label='female');\n",
    "\n",
    "plt.scatter(55, 163, color = 'black', marker='x', label='female');\n",
    "c1 = plt.Circle((55, 163), 3, color='r', fill=False)\n",
    "plt.gcf().gca().add_artist(c1)\n",
    "\n",
    "plt.legend(loc=[1.1, 0.5]);\n",
    "plt.ylabel('рост');\n",
    "plt.xlabel('вес');"
   ]
  },
  {
   "cell_type": "markdown",
   "metadata": {},
   "source": [
    "> Заметили почему наша окружность нарисовалась в виде эллипса?"
   ]
  },
  {
   "cell_type": "markdown",
   "metadata": {},
   "source": [
    "##### Напишем свой классификатор который считает N-ближайших соседей - делает предсказание на основании большинства его соседей."
   ]
  },
  {
   "cell_type": "code",
   "execution_count": null,
   "metadata": {
    "collapsed": true
   },
   "outputs": [],
   "source": []
  },
  {
   "cell_type": "code",
   "execution_count": 19,
   "metadata": {
    "ExecuteTime": {
     "end_time": "2018-10-09T15:06:49.292975Z",
     "start_time": "2018-10-09T15:06:49.287780Z"
    }
   },
   "outputs": [
    {
     "data": {
      "text/plain": [
       "array([3, 4, 1, 2, 0], dtype=int64)"
      ]
     },
     "execution_count": 19,
     "metadata": {},
     "output_type": "execute_result"
    }
   ],
   "source": [
    "np.argsort( np.array([5,2,2,0,0]) ) # возвращает индексы элементов так \n",
    "                                    # как если бы элементы были отсортированы в порядке неубывания"
   ]
  },
  {
   "cell_type": "code",
   "execution_count": 20,
   "metadata": {
    "ExecuteTime": {
     "end_time": "2018-10-09T14:54:09.594584Z",
     "start_time": "2018-10-09T14:54:09.582462Z"
    }
   },
   "outputs": [
    {
     "data": {
      "text/plain": [
       "array([2, 0, 2, 0, 0, 1], dtype=int64)"
      ]
     },
     "execution_count": 20,
     "metadata": {},
     "output_type": "execute_result"
    }
   ],
   "source": [
    "np.bincount( np.array([5,2,2,0,0]) ) # возвращает число вхождений каждого значения\n",
    "                                     # длина массива - на один больше макс. значения"
   ]
  },
  {
   "cell_type": "code",
   "execution_count": 21,
   "metadata": {},
   "outputs": [
    {
     "data": {
      "text/plain": [
       "2"
      ]
     },
     "execution_count": 21,
     "metadata": {},
     "output_type": "execute_result"
    }
   ],
   "source": [
    "np.argmax( [1, 2, 200, 5, 2] )       # вернет позицию на которой стоит максимальный элемент"
   ]
  },
  {
   "cell_type": "code",
   "execution_count": null,
   "metadata": {
    "collapsed": true
   },
   "outputs": [],
   "source": []
  },
  {
   "cell_type": "code",
   "execution_count": null,
   "metadata": {
    "collapsed": true
   },
   "outputs": [],
   "source": []
  },
  {
   "cell_type": "code",
   "execution_count": null,
   "metadata": {
    "collapsed": true
   },
   "outputs": [],
   "source": []
  },
  {
   "cell_type": "code",
   "execution_count": 22,
   "metadata": {
    "ExecuteTime": {
     "end_time": "2018-10-09T15:45:33.611581Z",
     "start_time": "2018-10-09T15:45:33.604872Z"
    }
   },
   "outputs": [],
   "source": [
    "X_train = df_train[['height', 'weight']].values\n",
    "y_train = df_train['male'].values\n",
    "\n",
    "X_test = df_test[['height', 'weight']].values"
   ]
  },
  {
   "cell_type": "code",
   "execution_count": 23,
   "metadata": {
    "ExecuteTime": {
     "end_time": "2018-10-09T15:45:34.047247Z",
     "start_time": "2018-10-09T15:45:34.040091Z"
    }
   },
   "outputs": [
    {
     "data": {
      "text/plain": [
       "array([[ 156.845    ,   53.0419145],\n",
       "       [ 163.83     ,   62.992589 ],\n",
       "       [ 149.225    ,   38.2434755],\n",
       "       [ 168.91     ,   55.4799715],\n",
       "       [ 147.955    ,   34.869885 ],\n",
       "       [ 154.305    ,   49.89512  ],\n",
       "       [ 149.9      ,   47.7      ],\n",
       "       [ 163.195    ,   48.5626935],\n",
       "       [ 157.48     ,   42.3258035],\n",
       "       [ 143.9418   ,   38.3568735],\n",
       "       [ 161.29     ,   48.987936 ],\n",
       "       [ 156.21     ,   42.7226965],\n",
       "       [ 148.59     ,   37.9032815],\n",
       "       [ 147.32     ,   35.4652245],\n",
       "       [ 147.955    ,   40.312989 ],\n",
       "       [ 161.925    ,   55.111428 ],\n",
       "       [ 146.05     ,   37.5063885],\n",
       "       [ 146.05     ,   38.498621 ],\n",
       "       [ 152.7048   ,   46.606578 ],\n",
       "       [ 142.875    ,   38.838815 ],\n",
       "       [ 142.875    ,   35.5786225],\n",
       "       [ 147.955    ,   47.400364 ],\n",
       "       [ 160.655    ,   47.8823055],\n",
       "       [ 151.765    ,   49.4131785],\n",
       "       [ 162.8648   ,   49.384829 ],\n",
       "       [ 147.32     ,   39.12231  ],\n",
       "       [ 147.955    ,   49.89512  ],\n",
       "       [ 143.51     ,   38.55532  ],\n",
       "       [ 146.7      ,   42.4      ],\n",
       "       [ 165.735    ,   58.5984165],\n",
       "       [ 152.4      ,   46.719976 ],\n",
       "       [ 158.8      ,   50.9      ],\n",
       "       [ 155.575    ,   54.317642 ],\n",
       "       [ 161.29     ,   52.219779 ],\n",
       "       [ 154.305    ,   47.62716  ],\n",
       "       [ 145.415    ,   45.642695 ],\n",
       "       [ 163.83     ,   55.9335635],\n",
       "       [ 144.145    ,   37.194544 ],\n",
       "       [ 153.67     ,   48.307548 ],\n",
       "       [ 142.875    ,   37.3362915],\n",
       "       [ 167.005    ,   47.173568 ],\n",
       "       [ 158.4198   ,   47.286966 ],\n",
       "       [ 149.86     ,   37.931631 ],\n",
       "       [ 154.94     ,   47.2019175],\n",
       "       [ 160.9598   ,   43.204638 ],\n",
       "       [ 161.925    ,   50.2636635],\n",
       "       [ 147.955    ,   39.3774555],\n",
       "       [ 159.385    ,   50.689    ],\n",
       "       [ 148.59     ,   39.4341545],\n",
       "       [ 158.115    ,   46.266384 ],\n",
       "       [ 156.845    ,   47.62716  ],\n",
       "       [ 179.07     ,   55.7067675],\n",
       "       [ 170.18     ,   48.5626935],\n",
       "       [ 146.05     ,   42.807745 ],\n",
       "       [ 147.32     ,   35.0683315],\n",
       "       [ 162.56     ,   56.755699 ]])"
      ]
     },
     "execution_count": 23,
     "metadata": {},
     "output_type": "execute_result"
    }
   ],
   "source": [
    "X_train"
   ]
  },
  {
   "cell_type": "code",
   "execution_count": 24,
   "metadata": {
    "ExecuteTime": {
     "end_time": "2018-10-09T15:45:34.575759Z",
     "start_time": "2018-10-09T15:45:34.569247Z"
    }
   },
   "outputs": [
    {
     "data": {
      "text/plain": [
       "array([1, 1, 0, 1, 0, 0, 0, 1, 1, 0, 1, 0, 0, 0, 1, 1, 0, 0, 0, 0, 0, 0, 1,\n",
       "       1, 1, 0, 0, 0, 1, 1, 0, 0, 0, 1, 0, 0, 1, 0, 1, 0, 1, 0, 0, 0, 1, 1,\n",
       "       0, 1, 0, 1, 1, 1, 1, 0, 0, 0], dtype=int64)"
      ]
     },
     "execution_count": 24,
     "metadata": {},
     "output_type": "execute_result"
    }
   ],
   "source": [
    "y_train"
   ]
  },
  {
   "cell_type": "markdown",
   "metadata": {},
   "source": [
    "##### Помните про эллипс?"
   ]
  },
  {
   "cell_type": "code",
   "execution_count": 25,
   "metadata": {
    "ExecuteTime": {
     "end_time": "2018-10-09T15:45:37.422940Z",
     "start_time": "2018-10-09T15:45:37.418037Z"
    },
    "collapsed": true
   },
   "outputs": [],
   "source": [
    "a = X_test[0]\n",
    "b = X_test[6]"
   ]
  },
  {
   "cell_type": "code",
   "execution_count": 26,
   "metadata": {
    "ExecuteTime": {
     "end_time": "2018-10-09T15:45:37.662850Z",
     "start_time": "2018-10-09T15:45:37.658271Z"
    }
   },
   "outputs": [
    {
     "data": {
      "text/plain": [
       "array([ 4.445    , -5.5848515])"
      ]
     },
     "execution_count": 26,
     "metadata": {},
     "output_type": "execute_result"
    }
   ],
   "source": [
    "a - b"
   ]
  },
  {
   "cell_type": "code",
   "execution_count": 27,
   "metadata": {
    "ExecuteTime": {
     "end_time": "2018-10-09T15:45:38.154091Z",
     "start_time": "2018-10-09T15:45:38.148442Z"
    }
   },
   "outputs": [
    {
     "data": {
      "text/plain": [
       "7.1378281904968954"
      ]
     },
     "execution_count": 27,
     "metadata": {},
     "output_type": "execute_result"
    }
   ],
   "source": [
    "np.sqrt(np.sum((a - b) ** 2))"
   ]
  },
  {
   "cell_type": "markdown",
   "metadata": {},
   "source": [
    "##### Задумаемся! А если рост у нас не в сантиметрах, а в миллиметрах?"
   ]
  },
  {
   "cell_type": "code",
   "execution_count": 28,
   "metadata": {
    "ExecuteTime": {
     "end_time": "2018-10-09T15:45:39.432103Z",
     "start_time": "2018-10-09T15:45:39.429347Z"
    },
    "collapsed": true
   },
   "outputs": [],
   "source": [
    "a[0] *= 10\n",
    "b[0] *= 10"
   ]
  },
  {
   "cell_type": "code",
   "execution_count": 29,
   "metadata": {
    "ExecuteTime": {
     "end_time": "2018-10-09T15:45:39.965528Z",
     "start_time": "2018-10-09T15:45:39.957096Z"
    }
   },
   "outputs": [
    {
     "data": {
      "text/plain": [
       "array([ 44.45     ,  -5.5848515])"
      ]
     },
     "execution_count": 29,
     "metadata": {},
     "output_type": "execute_result"
    }
   ],
   "source": [
    "a - b"
   ]
  },
  {
   "cell_type": "code",
   "execution_count": 30,
   "metadata": {
    "ExecuteTime": {
     "end_time": "2018-10-09T15:45:40.444162Z",
     "start_time": "2018-10-09T15:45:40.437705Z"
    }
   },
   "outputs": [
    {
     "data": {
      "text/plain": [
       "44.799476183065536"
      ]
     },
     "execution_count": 30,
     "metadata": {},
     "output_type": "execute_result"
    }
   ],
   "source": [
    "np.sqrt(np.sum((a - b) ** 2))"
   ]
  },
  {
   "cell_type": "markdown",
   "metadata": {},
   "source": [
    "##### т.е. Мы почти проигнорили что у нас отличается вес на 5 килограммов и из-за особенности евклидова расстояния (квадрата) мы смотрели на большие значения !"
   ]
  },
  {
   "cell_type": "code",
   "execution_count": null,
   "metadata": {
    "collapsed": true
   },
   "outputs": [],
   "source": []
  },
  {
   "cell_type": "code",
   "execution_count": null,
   "metadata": {
    "collapsed": true
   },
   "outputs": [],
   "source": []
  },
  {
   "cell_type": "code",
   "execution_count": null,
   "metadata": {
    "collapsed": true
   },
   "outputs": [],
   "source": []
  },
  {
   "cell_type": "code",
   "execution_count": null,
   "metadata": {
    "collapsed": true
   },
   "outputs": [],
   "source": []
  },
  {
   "cell_type": "code",
   "execution_count": null,
   "metadata": {
    "collapsed": true
   },
   "outputs": [],
   "source": []
  },
  {
   "cell_type": "code",
   "execution_count": null,
   "metadata": {
    "collapsed": true
   },
   "outputs": [],
   "source": []
  },
  {
   "cell_type": "code",
   "execution_count": null,
   "metadata": {
    "collapsed": true
   },
   "outputs": [],
   "source": []
  },
  {
   "cell_type": "code",
   "execution_count": null,
   "metadata": {
    "collapsed": true
   },
   "outputs": [],
   "source": []
  },
  {
   "cell_type": "code",
   "execution_count": null,
   "metadata": {
    "collapsed": true
   },
   "outputs": [],
   "source": []
  },
  {
   "cell_type": "code",
   "execution_count": null,
   "metadata": {
    "collapsed": true
   },
   "outputs": [],
   "source": []
  },
  {
   "cell_type": "code",
   "execution_count": null,
   "metadata": {
    "collapsed": true
   },
   "outputs": [],
   "source": []
  },
  {
   "cell_type": "code",
   "execution_count": null,
   "metadata": {
    "collapsed": true
   },
   "outputs": [],
   "source": []
  },
  {
   "cell_type": "code",
   "execution_count": 31,
   "metadata": {
    "scrolled": true
   },
   "outputs": [
    {
     "data": {
      "text/plain": [
       "<matplotlib.text.Text at 0x589d43f198>"
      ]
     },
     "execution_count": 31,
     "metadata": {},
     "output_type": "execute_result"
    },
    {
     "data": {
      "image/png": "[encoded data removed]",
      "text/plain": [
       "<matplotlib.figure.Figure at 0x589c7d5208>"
      ]
     },
     "metadata": {},
     "output_type": "display_data"
    }
   ],
   "source": [
    "plt.plot([i for i in range(-40, 40)], [np.abs(i) for i in range(-40, 40)])\n",
    "plt.ylabel('расстояние')\n",
    "plt.xlabel('разность')"
   ]
  },
  {
   "cell_type": "code",
   "execution_count": 32,
   "metadata": {
    "scrolled": true
   },
   "outputs": [
    {
     "data": {
      "text/plain": [
       "<matplotlib.text.Text at 0x589d262f60>"
      ]
     },
     "execution_count": 32,
     "metadata": {},
     "output_type": "execute_result"
    },
    {
     "data": {
      "image/png": "[encoded data removed]",
      "text/plain": [
       "<matplotlib.figure.Figure at 0x589d724c18>"
      ]
     },
     "metadata": {},
     "output_type": "display_data"
    }
   ],
   "source": [
    "plt.plot([i for i in range(-40, 40)], [i ** 2 for i in range(-40, 40)])\n",
    "plt.plot([i for i in range(-40, 40)], [np.abs(i) for i in range(-40, 40)])\n",
    "plt.ylabel('расстояние')\n",
    "plt.xlabel('разность')"
   ]
  },
  {
   "cell_type": "raw",
   "metadata": {},
   "source": [
    "имею в виду\n",
    "\n",
    "a - b   # разность\n",
    "\n",
    "np.sum((a - b) ** 2) # расстояние"
   ]
  },
  {
   "cell_type": "markdown",
   "metadata": {},
   "source": [
    "_________"
   ]
  },
  {
   "cell_type": "code",
   "execution_count": null,
   "metadata": {
    "collapsed": true
   },
   "outputs": [],
   "source": []
  },
  {
   "cell_type": "code",
   "execution_count": null,
   "metadata": {
    "collapsed": true
   },
   "outputs": [],
   "source": []
  },
  {
   "cell_type": "code",
   "execution_count": null,
   "metadata": {
    "collapsed": true
   },
   "outputs": [],
   "source": []
  },
  {
   "cell_type": "code",
   "execution_count": null,
   "metadata": {
    "collapsed": true
   },
   "outputs": [],
   "source": []
  },
  {
   "cell_type": "code",
   "execution_count": null,
   "metadata": {
    "collapsed": true
   },
   "outputs": [],
   "source": []
  },
  {
   "cell_type": "code",
   "execution_count": null,
   "metadata": {
    "collapsed": true
   },
   "outputs": [],
   "source": []
  },
  {
   "cell_type": "code",
   "execution_count": null,
   "metadata": {
    "collapsed": true
   },
   "outputs": [],
   "source": []
  },
  {
   "cell_type": "raw",
   "metadata": {},
   "source": [
    "# Мы хотим использовать метрический метод - а оси у нас разной природы. Что делать?\n",
    "\n",
    "- стандартизация\n",
    "- мин-макс скейлинг\n"
   ]
  },
  {
   "cell_type": "code",
   "execution_count": null,
   "metadata": {
    "collapsed": true
   },
   "outputs": [],
   "source": []
  },
  {
   "cell_type": "code",
   "execution_count": 33,
   "metadata": {},
   "outputs": [],
   "source": [
    "# стандартизуем\n",
    "\n",
    "mean_ = X_train.mean(axis=0)\n",
    "std_ = X_train.std(axis=0)\n",
    "\n",
    "X_train = (X_train - mean_) / std_\n",
    "X_test = (X_test - mean_) / std_"
   ]
  },
  {
   "cell_type": "raw",
   "metadata": {
    "ExecuteTime": {
     "end_time": "2018-10-09T15:26:23.011107Z",
     "start_time": "2018-10-09T15:26:22.994173Z"
    }
   },
   "source": [
    "# отшкалируем\n",
    "\n",
    "max_ = X_train.max(axis=0)\n",
    "min_ = X_train.min(axis=0)\n",
    "\n",
    "X_train = (X_train - min_) / (max_ - min_)\n",
    "X_test = (X_test - min_) / (max_ - min_)"
   ]
  },
  {
   "cell_type": "code",
   "execution_count": 34,
   "metadata": {
    "ExecuteTime": {
     "end_time": "2018-10-09T15:26:25.901988Z",
     "start_time": "2018-10-09T15:26:25.863859Z"
    }
   },
   "outputs": [
    {
     "data": {
      "text/plain": [
       "array([[  1.70192413e+02,   3.07415824e-01],\n",
       "       [  1.54708469e+00,   1.39138484e+00],\n",
       "       [ -1.41023993e+00,  -1.88563345e+00],\n",
       "       [ -2.42874946e-01,  -7.22145478e-01],\n",
       "       [  6.88565880e-01,   8.01388978e-01],\n",
       "       [  6.13192708e-01,   4.83194582e-01],\n",
       "       [  1.64744709e+02,   1.13190191e+00],\n",
       "       [  7.68841372e-01,   1.22816170e+00],\n",
       "       [  7.68841372e-01,   1.41649609e+00],\n",
       "       [ -6.31996607e-01,  -5.21255468e-01],\n",
       "       [  6.84223825e-02,   5.79454379e-01],\n",
       "       [ -1.56588859e+00,  -2.11550036e-01],\n",
       "       [ -5.16816596e-01,  -5.63107553e-01],\n",
       "       [  1.46246715e-01,   8.43122517e-01],\n",
       "       [  2.24071047e-01,  -2.45031704e-01],\n",
       "       [ -5.54172275e-01,   1.01890128e+00],\n",
       "       [  6.13192708e-01,   4.53898123e-01],\n",
       "       [  9.24490037e-01,   1.65086777e+00],\n",
       "       [  1.46246715e-01,  -5.42181511e-01]])"
      ]
     },
     "execution_count": 34,
     "metadata": {},
     "output_type": "execute_result"
    }
   ],
   "source": [
    "X_test"
   ]
  },
  {
   "cell_type": "markdown",
   "metadata": {},
   "source": [
    "________"
   ]
  },
  {
   "cell_type": "code",
   "execution_count": 36,
   "metadata": {
    "ExecuteTime": {
     "end_time": "2018-10-09T15:26:29.062476Z",
     "start_time": "2018-10-09T15:26:29.028897Z"
    }
   },
   "outputs": [],
   "source": [
    "class KNN:\n",
    "    \"\"\"\n",
    "    simple KNN classifier\n",
    "    \"\"\"\n",
    "    \n",
    "    def __init__(self, n):\n",
    "        self.n = n\n",
    "        \n",
    "    def fit(self, X, y):\n",
    "        self.X = X\n",
    "        self.y = y\n",
    "    \n",
    "    def predict(self, X):\n",
    "        y = []\n",
    "        assert len(X.shape) == 2\n",
    "        for (h, w) in X:\n",
    "            ### Посчитаем расстояние от всех элементов в тренировочной выборке\n",
    "            # до текущего примера -> результат - вектор размерности трейна\n",
    "            d = np.sqrt((self.X[:,0]-h)**2+(self.X[:,1]-w)**2)\n",
    "            ### Возьмем индексы n элементов, расстояние до которых минимально\n",
    "            ### результат -> вектор из n элементов\n",
    "            idx = np.argsort(d)[: self.n]\n",
    "            ### Посчитаем частоту меток для каждого случая \n",
    "            ### результат -> вектор длинны 2 который покажет\n",
    "            ### сколько соседей 0-го класса, сколько соседей 1-го класса.\n",
    "            counts = np.bincount(self.y[idx])\n",
    "            ### возьмем самый часто встречаемый в соседях класс.\n",
    "            prediction = np.argmax(counts)\n",
    "            y.append(prediction)\n",
    "        return y"
   ]
  },
  {
   "cell_type": "code",
   "execution_count": null,
   "metadata": {
    "collapsed": true
   },
   "outputs": [],
   "source": []
  },
  {
   "cell_type": "code",
   "execution_count": 38,
   "metadata": {
    "ExecuteTime": {
     "end_time": "2018-10-09T15:26:29.946599Z",
     "start_time": "2018-10-09T15:26:29.944162Z"
    },
    "collapsed": true
   },
   "outputs": [],
   "source": [
    "knn = KNN(7)"
   ]
  },
  {
   "cell_type": "code",
   "execution_count": null,
   "metadata": {
    "collapsed": true
   },
   "outputs": [],
   "source": []
  },
  {
   "cell_type": "code",
   "execution_count": null,
   "metadata": {
    "collapsed": true
   },
   "outputs": [],
   "source": []
  },
  {
   "cell_type": "markdown",
   "metadata": {},
   "source": [
    "_______"
   ]
  },
  {
   "cell_type": "code",
   "execution_count": 39,
   "metadata": {
    "ExecuteTime": {
     "end_time": "2018-10-09T15:26:30.914971Z",
     "start_time": "2018-10-09T15:26:30.907683Z"
    },
    "collapsed": true
   },
   "outputs": [],
   "source": [
    "knn.fit(X_train, y_train)"
   ]
  },
  {
   "cell_type": "code",
   "execution_count": 40,
   "metadata": {
    "ExecuteTime": {
     "end_time": "2018-10-09T15:26:31.086531Z",
     "start_time": "2018-10-09T15:26:31.083171Z"
    },
    "collapsed": true
   },
   "outputs": [],
   "source": [
    "y_pred = knn.predict(X_test)"
   ]
  },
  {
   "cell_type": "code",
   "execution_count": 41,
   "metadata": {
    "ExecuteTime": {
     "end_time": "2018-10-09T15:35:44.714816Z",
     "start_time": "2018-10-09T15:35:44.704200Z"
    }
   },
   "outputs": [
    {
     "data": {
      "text/plain": [
       "'acc = 0.789474'"
      ]
     },
     "execution_count": 41,
     "metadata": {},
     "output_type": "execute_result"
    }
   ],
   "source": [
    "'acc = %f' % np.mean(y_pred == df_test['male'].values)"
   ]
  },
  {
   "cell_type": "markdown",
   "metadata": {},
   "source": [
    "##### Круто. а где мы ошиблись ?"
   ]
  },
  {
   "cell_type": "code",
   "execution_count": 42,
   "metadata": {
    "ExecuteTime": {
     "end_time": "2018-10-09T15:30:44.238147Z",
     "start_time": "2018-10-09T15:30:44.218588Z"
    }
   },
   "outputs": [
    {
     "data": {
      "text/html": [
       "<div>\n",
       "<style>\n",
       "    .dataframe thead tr:only-child th {\n",
       "        text-align: right;\n",
       "    }\n",
       "\n",
       "    .dataframe thead th {\n",
       "        text-align: left;\n",
       "    }\n",
       "\n",
       "    .dataframe tbody tr th {\n",
       "        vertical-align: top;\n",
       "    }\n",
       "</style>\n",
       "<table border=\"1\" class=\"dataframe\">\n",
       "  <thead>\n",
       "    <tr style=\"text-align: right;\">\n",
       "      <th></th>\n",
       "      <th>height</th>\n",
       "      <th>weight</th>\n",
       "      <th>age</th>\n",
       "      <th>male</th>\n",
       "    </tr>\n",
       "  </thead>\n",
       "  <tbody>\n",
       "    <tr>\n",
       "      <th>150</th>\n",
       "      <td>154.305</td>\n",
       "      <td>47.853956</td>\n",
       "      <td>34.0</td>\n",
       "      <td>0</td>\n",
       "    </tr>\n",
       "    <tr>\n",
       "      <th>159</th>\n",
       "      <td>149.860</td>\n",
       "      <td>53.438807</td>\n",
       "      <td>45.0</td>\n",
       "      <td>0</td>\n",
       "    </tr>\n",
       "    <tr>\n",
       "      <th>165</th>\n",
       "      <td>154.940</td>\n",
       "      <td>49.696673</td>\n",
       "      <td>26.0</td>\n",
       "      <td>1</td>\n",
       "    </tr>\n",
       "    <tr>\n",
       "      <th>169</th>\n",
       "      <td>155.575</td>\n",
       "      <td>51.482692</td>\n",
       "      <td>24.0</td>\n",
       "      <td>0</td>\n",
       "    </tr>\n",
       "  </tbody>\n",
       "</table>\n",
       "</div>"
      ],
      "text/plain": [
       "      height     weight   age  male\n",
       "150  154.305  47.853956  34.0     0\n",
       "159  149.860  53.438807  45.0     0\n",
       "165  154.940  49.696673  26.0     1\n",
       "169  155.575  51.482692  24.0     0"
      ]
     },
     "execution_count": 42,
     "metadata": {},
     "output_type": "execute_result"
    }
   ],
   "source": [
    "df_test[y_pred != df_test['male'].values]"
   ]
  },
  {
   "cell_type": "markdown",
   "metadata": {},
   "source": [
    "> мальчик ростом 154 см с весом ~50 кг. - кажется сложный кейс."
   ]
  },
  {
   "cell_type": "markdown",
   "metadata": {},
   "source": [
    "__________"
   ]
  },
  {
   "cell_type": "code",
   "execution_count": 43,
   "metadata": {
    "ExecuteTime": {
     "end_time": "2018-10-09T15:36:31.263126Z",
     "start_time": "2018-10-09T15:36:31.222441Z"
    }
   },
   "outputs": [
    {
     "name": "stdout",
     "output_type": "stream",
     "text": [
      "0.947368421053\n"
     ]
    }
   ],
   "source": [
    "# все есть в готовой бибилиотеке sklearn\n",
    "# _______________________________________\n",
    "\n",
    "\n",
    "from sklearn.neighbors import KNeighborsClassifier\n",
    "from sklearn.preprocessing import StandardScaler\n",
    "from sklearn.metrics import accuracy_score\n",
    "\n",
    "knn_model = KNeighborsClassifier(n_neighbors=8)\n",
    "sc = StandardScaler()\n",
    "\n",
    "X_train = df_train[['height', 'weight']].values\n",
    "y_train = df_train['male'].values\n",
    "\n",
    "X_test = df_test[['height', 'weight']].values\n",
    "\n",
    "sc.fit(X_train)\n",
    "X_train = sc.transform(X_train)\n",
    "X_test = sc.transform(X_test)\n",
    "\n",
    "knn_model.fit(X_train, y_train)\n",
    "\n",
    "y_pred = knn_model.predict(X_test)\n",
    "print(accuracy_score(df_test['male'].values, y_pred))"
   ]
  },
  {
   "cell_type": "markdown",
   "metadata": {},
   "source": [
    "____"
   ]
  },
  {
   "cell_type": "raw",
   "metadata": {},
   "source": [
    "Чемпионы. Но у команды есть вопросы:\n",
    "    \n",
    "    - мы отфильтровали вначале, но что будет с детьми ?\n",
    "    - что будет на разных континентах ? \n",
    "    "
   ]
  },
  {
   "cell_type": "code",
   "execution_count": null,
   "metadata": {
    "collapsed": true
   },
   "outputs": [],
   "source": []
  },
  {
   "cell_type": "code",
   "execution_count": null,
   "metadata": {
    "collapsed": true
   },
   "outputs": [],
   "source": []
  },
  {
   "cell_type": "code",
   "execution_count": null,
   "metadata": {
    "collapsed": true
   },
   "outputs": [],
   "source": []
  },
  {
   "cell_type": "code",
   "execution_count": null,
   "metadata": {
    "collapsed": true
   },
   "outputs": [],
   "source": []
  },
  {
   "cell_type": "code",
   "execution_count": null,
   "metadata": {
    "collapsed": true
   },
   "outputs": [],
   "source": []
  },
  {
   "cell_type": "code",
   "execution_count": null,
   "metadata": {
    "collapsed": true
   },
   "outputs": [],
   "source": []
  },
  {
   "cell_type": "markdown",
   "metadata": {},
   "source": [
    "Пусть $ X $ - множество описаний объектов, $ Y $ - множество допустимых ответов. \n",
    "\n",
    "Существует неизвестная целевая зависимость $ f: X \\to Y $ \n",
    "\n",
    "значения которой известны только на объектах обучающей выборки \n",
    "\n",
    "$X^m = \\{(x_1,y_1),\\dots,(x_m,y_m)\\}$\n",
    "\n",
    "Требуется построить алгоритм $a: X\\to Y$, который приближал бы неизвестную \n",
    "\n",
    "целевую зависимость как на элементах выборки, так и на всём множестве $X$."
   ]
  },
  {
   "cell_type": "code",
   "execution_count": null,
   "metadata": {
    "collapsed": true
   },
   "outputs": [],
   "source": []
  },
  {
   "cell_type": "code",
   "execution_count": null,
   "metadata": {
    "collapsed": true
   },
   "outputs": [],
   "source": [
    "http://cs231n.github.io/optimization-1/"
   ]
  },
  {
   "cell_type": "code",
   "execution_count": null,
   "metadata": {
    "collapsed": true
   },
   "outputs": [],
   "source": []
  }
 ],
 "metadata": {
  "kernelspec": {
   "display_name": "Python 3",
   "language": "python",
   "name": "python3"
  },
  "language_info": {
   "codemirror_mode": {
    "name": "ipython",
    "version": 3
   },
   "file_extension": ".py",
   "mimetype": "text/x-python",
   "name": "python",
   "nbconvert_exporter": "python",
   "pygments_lexer": "ipython3",
   "version": "3.6.1"
  }
 },
 "nbformat": 4,
 "nbformat_minor": 2
}
